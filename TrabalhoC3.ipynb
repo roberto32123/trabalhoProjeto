{
 "cells": [
  {
   "cell_type": "code",
   "execution_count": 2,
   "id": "909b4d07",
   "metadata": {},
   "outputs": [],
   "source": [
    "# Roberto Lucas de Oliveira Conceição\n",
    "# Lucas Fereira da Silva\n",
    "# Pedro Paulo Gomes Araújo\n",
    "# Heitor Tomazeli Da Silva\n",
    "# Amanda Verdan de Souza\n",
    "# Jonathan Magacho Demetrio"
   ]
  },
  {
   "cell_type": "code",
   "execution_count": 3,
   "id": "69578c12",
   "metadata": {},
   "outputs": [],
   "source": [
    "from sklearn.preprocessing import KBinsDiscretizer\n",
    "import numpy as np \n",
    "import time, math, random\n",
    "from typing import Tuple\n",
    "\n",
    "# import gym \n",
    "import gym"
   ]
  },
  {
   "cell_type": "code",
   "execution_count": 4,
   "id": "9d6115ec",
   "metadata": {},
   "outputs": [],
   "source": [
    "env = gym.make('CartPole-v1')"
   ]
  },
  {
   "cell_type": "code",
   "execution_count": 5,
   "id": "74a27ee7",
   "metadata": {
    "scrolled": true
   },
   "outputs": [
    {
     "name": "stderr",
     "output_type": "stream",
     "text": [
      "C:\\Users\\rober\\AppData\\Roaming\\Python\\Python38\\site-packages\\gym\\envs\\classic_control\\cartpole.py:150: UserWarning: \u001b[33mWARN: You are calling 'step()' even though this environment has already returned done = True. You should always call 'reset()' once you receive 'done = True' -- any further steps are undefined behavior.\u001b[0m\n",
      "  logger.warn(\n"
     ]
    },
    {
     "ename": "KeyboardInterrupt",
     "evalue": "",
     "output_type": "error",
     "traceback": [
      "\u001b[1;31m---------------------------------------------------------------------------\u001b[0m",
      "\u001b[1;31mKeyboardInterrupt\u001b[0m                         Traceback (most recent call last)",
      "\u001b[1;32m<ipython-input-5-3d82361a474a>\u001b[0m in \u001b[0;36m<module>\u001b[1;34m\u001b[0m\n\u001b[0;32m      7\u001b[0m         \u001b[0mobs\u001b[0m\u001b[1;33m,\u001b[0m \u001b[0mreward\u001b[0m\u001b[1;33m,\u001b[0m \u001b[0mdone\u001b[0m\u001b[1;33m,\u001b[0m \u001b[0minfo\u001b[0m \u001b[1;33m=\u001b[0m \u001b[0menv\u001b[0m\u001b[1;33m.\u001b[0m\u001b[0mstep\u001b[0m\u001b[1;33m(\u001b[0m\u001b[0mactions\u001b[0m\u001b[1;33m)\u001b[0m\u001b[1;33m\u001b[0m\u001b[1;33m\u001b[0m\u001b[0m\n\u001b[0;32m      8\u001b[0m         \u001b[0menv\u001b[0m\u001b[1;33m.\u001b[0m\u001b[0mrender\u001b[0m\u001b[1;33m(\u001b[0m\u001b[1;33m)\u001b[0m\u001b[1;33m\u001b[0m\u001b[1;33m\u001b[0m\u001b[0m\n\u001b[1;32m----> 9\u001b[1;33m         \u001b[0mtime\u001b[0m\u001b[1;33m.\u001b[0m\u001b[0msleep\u001b[0m\u001b[1;33m(\u001b[0m\u001b[1;36m0.03\u001b[0m\u001b[1;33m)\u001b[0m\u001b[1;33m\u001b[0m\u001b[1;33m\u001b[0m\u001b[0m\n\u001b[0m\u001b[0;32m     10\u001b[0m \u001b[1;33m\u001b[0m\u001b[0m\n\u001b[0;32m     11\u001b[0m \u001b[0menv\u001b[0m\u001b[1;33m.\u001b[0m\u001b[0mclose\u001b[0m\u001b[1;33m(\u001b[0m\u001b[1;33m)\u001b[0m\u001b[1;33m\u001b[0m\u001b[1;33m\u001b[0m\u001b[0m\n",
      "\u001b[1;31mKeyboardInterrupt\u001b[0m: "
     ]
    }
   ],
   "source": [
    "policy = lambda obs: 0\n",
    "\n",
    "for _ in range(20):\n",
    "    obs = env.reset()\n",
    "    for _ in range(80):\n",
    "        actions = policy(obs)\n",
    "        obs, reward, done, info = env.step(actions) \n",
    "        env.render()\n",
    "        time.sleep(0.03)\n",
    "\n",
    "env.close()"
   ]
  },
  {
   "cell_type": "code",
   "execution_count": 6,
   "id": "3b222b85",
   "metadata": {},
   "outputs": [],
   "source": [
    "# obs = possição, velocidade, angulo, velocidade angular\n",
    "# actions = 0 para esquerda, 1 para direita"
   ]
  },
  {
   "cell_type": "code",
   "execution_count": 7,
   "id": "0aba8368",
   "metadata": {},
   "outputs": [],
   "source": [
    "?env.env"
   ]
  },
  {
   "cell_type": "code",
   "execution_count": 8,
   "id": "dcf59569",
   "metadata": {},
   "outputs": [],
   "source": [
    "policy = lambda _,__,___, tip_velocity : int( tip_velocity > 0 )\n",
    "#Função de política simples"
   ]
  },
  {
   "cell_type": "code",
   "execution_count": 9,
   "id": "9467f730",
   "metadata": {},
   "outputs": [],
   "source": [
    "#Usando Qlearning"
   ]
  },
  {
   "cell_type": "code",
   "execution_count": 10,
   "id": "e17ad0ec",
   "metadata": {},
   "outputs": [],
   "source": [
    "n_bins = ( 6 , 12 )\n",
    "lower_bounds = [ env.observation_space.low[2], -math.radians(50) ]\n",
    "upper_bounds = [ env.observation_space.high[2], math.radians(50) ]\n",
    "#tranforma de continuopara discreto\n",
    "def discretizer( _ , __ , angle, pole_velocity ) -> Tuple[int,...]:\n",
    "    est = KBinsDiscretizer(n_bins=n_bins, encode='ordinal', strategy='uniform')\n",
    "    est.fit([lower_bounds, upper_bounds ])\n",
    "    return tuple(map(int,est.transform([[angle, pole_velocity]])[0]))"
   ]
  },
  {
   "cell_type": "code",
   "execution_count": 11,
   "id": "a8c3e59e",
   "metadata": {},
   "outputs": [
    {
     "data": {
      "text/plain": [
       "(6, 12, 2)"
      ]
     },
     "execution_count": 11,
     "metadata": {},
     "output_type": "execute_result"
    }
   ],
   "source": [
    "Q_table = np.zeros(n_bins + (env.action_space.n,))\n",
    "Q_table.shape\n",
    "#Inicializa a Q tabela de valores "
   ]
  },
  {
   "cell_type": "code",
   "execution_count": 12,
   "id": "c140c26d",
   "metadata": {},
   "outputs": [],
   "source": [
    "def policy( state : tuple ):\n",
    "    return np.argmax(Q_table[state])\n",
    "#Cria uma função que use a tabela Q para selecionar o valor Q mais alto"
   ]
  },
  {
   "cell_type": "code",
   "execution_count": 13,
   "id": "b8ecbabd",
   "metadata": {},
   "outputs": [],
   "source": [
    "def new_Q_value( reward : float ,  new_state : tuple , discount_factor=1 ) -> float:\n",
    "    future_optimal_value = np.max(Q_table[new_state])\n",
    "    learned_value = reward + discount_factor * future_optimal_value\n",
    "    return learned_value\n",
    "#faz a atualização da Q tabela"
   ]
  },
  {
   "cell_type": "code",
   "execution_count": 14,
   "id": "fc14a317",
   "metadata": {},
   "outputs": [],
   "source": [
    "def learning_rate(n : int , min_rate=0.02 ) -> float  :\n",
    "    return max(min_rate, min(1.0, 1.0 - math.log10((n + 1) / 25)))\n",
    "#taxa de aprendizado"
   ]
  },
  {
   "cell_type": "code",
   "execution_count": 15,
   "id": "02682425",
   "metadata": {},
   "outputs": [],
   "source": [
    "def exploration_rate(n : int, min_rate= 0.2 ) -> float :\n",
    "    return max(min_rate, min(1, 1.0 - math.log10((n  + 1) / 25)))\n",
    "#taxa de exploração"
   ]
  },
  {
   "cell_type": "code",
   "execution_count": null,
   "id": "9bc96ec8",
   "metadata": {},
   "outputs": [],
   "source": [
    "n_episodes = 500 \n",
    "for e in range(n_episodes):\n",
    "    \n",
    "    current_state, done = discretizer(*env.reset()), False\n",
    "    \n",
    "    while done==False:\n",
    "        \n",
    "        # ação da politica\n",
    "        action = policy(current_state) # exploit\n",
    "        \n",
    "        # inserir aleatoriamente\n",
    "        if np.random.random() < exploration_rate(e) : \n",
    "            action = env.action_space.sample() # explore \n",
    "         \n",
    "        # incremento\n",
    "        obs, reward, done, _ = env.step(action)\n",
    "        new_state = discretizer(*obs)\n",
    "        \n",
    "        #update\n",
    "        lr = learning_rate(e)\n",
    "        learnt_value = new_Q_value(reward , new_state )\n",
    "        old_value = Q_table[current_state][action]\n",
    "        Q_table[current_state][action] = (1-lr)*old_value + lr*learnt_value\n",
    "        \n",
    "        current_state = new_state\n",
    "        \n",
    "        #visualização\n",
    "        env.render()\n",
    "            "
   ]
  },
  {
   "cell_type": "code",
   "execution_count": null,
   "id": "35ea33c8",
   "metadata": {},
   "outputs": [],
   "source": [
    "# Projeto gym Carpole "
   ]
  },
  {
   "cell_type": "code",
   "execution_count": null,
   "id": "0545e7e4",
   "metadata": {},
   "outputs": [],
   "source": []
  }
 ],
 "metadata": {
  "kernelspec": {
   "display_name": "Python 3",
   "language": "python",
   "name": "python3"
  },
  "language_info": {
   "codemirror_mode": {
    "name": "ipython",
    "version": 3
   },
   "file_extension": ".py",
   "mimetype": "text/x-python",
   "name": "python",
   "nbconvert_exporter": "python",
   "pygments_lexer": "ipython3",
   "version": "3.8.8"
  }
 },
 "nbformat": 4,
 "nbformat_minor": 5
}
